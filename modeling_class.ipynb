{
  "nbformat": 4,
  "nbformat_minor": 0,
  "metadata": {
    "colab": {
      "provenance": [],
      "authorship_tag": "ABX9TyOmelMC7ZsfviXR9TcBJFMG",
      "include_colab_link": true
    },
    "kernelspec": {
      "name": "python3",
      "display_name": "Python 3"
    },
    "language_info": {
      "name": "python"
    }
  },
  "cells": [
    {
      "cell_type": "markdown",
      "metadata": {
        "id": "view-in-github",
        "colab_type": "text"
      },
      "source": [
        "<a href=\"https://colab.research.google.com/github/IS737StockPicker/stonks/blob/main/modeling_class.ipynb\" target=\"_parent\"><img src=\"https://colab.research.google.com/assets/colab-badge.svg\" alt=\"Open In Colab\"/></a>"
      ]
    },
    {
      "cell_type": "code",
      "execution_count": 1,
      "metadata": {
        "id": "LJItsL_VIQP1"
      },
      "outputs": [],
      "source": [
        "%%capture\n",
        "!git clone https://github.com/IS737StockPicker/stonks"
      ]
    },
    {
      "cell_type": "code",
      "source": [
        "import pandas as pd\n",
        "from datetime import datetime\n",
        "from datetime import date\n",
        "stock_data= pd.read_csv('/content/stonks/Stocks_march_sept.csv')\n",
        "#stock_data['Date'] = stock_data['Date'].dt.date(stock_data['Date'])\n",
        "\n",
        "stock_data[\"Date\"] = pd.to_datetime(stock_data[\"Date\"], errors='coerce',utc=True)\n",
        "stock_data['Date'] = stock_data['Date'].dt.strftime('%Y-%m-%d')\n",
        "stock_data.head()\n",
        "#stock_data.info()\n",
        "#stock_data['Date'].day()\n",
        "#stock_data.dtypes\n",
        "#stock_data['Date'].astype()"
      ],
      "metadata": {
        "colab": {
          "base_uri": "https://localhost:8080/"
        },
        "id": "9A5DJKfEIZJ1",
        "outputId": "0c4a784f-d106-4209-dda7-b42cae4d16c8"
      },
      "execution_count": 65,
      "outputs": [
        {
          "output_type": "stream",
          "name": "stdout",
          "text": [
            "<class 'pandas.core.frame.DataFrame'>\n",
            "RangeIndex: 276 entries, 0 to 275\n",
            "Data columns (total 15 columns):\n",
            " #   Column  Non-Null Count  Dtype  \n",
            "---  ------  --------------  -----  \n",
            " 0   Date    276 non-null    object \n",
            " 1   XLE     276 non-null    int64  \n",
            " 2   XLF     276 non-null    int64  \n",
            " 3   XLU     276 non-null    int64  \n",
            " 4   XLI     276 non-null    int64  \n",
            " 5   XLK     276 non-null    int64  \n",
            " 6   XLV     276 non-null    int64  \n",
            " 7   XLY     276 non-null    int64  \n",
            " 8   IYR     276 non-null    int64  \n",
            " 9   AAPL    276 non-null    int64  \n",
            " 10  XLB     276 non-null    int64  \n",
            " 11  XLP     276 non-null    int64  \n",
            " 12  SPY     276 non-null    int64  \n",
            " 13  ^DJI    276 non-null    int64  \n",
            " 14  NDX     275 non-null    float64\n",
            "dtypes: float64(1), int64(13), object(1)\n",
            "memory usage: 32.5+ KB\n"
          ]
        }
      ]
    },
    {
      "cell_type": "code",
      "source": [
        "Guardian_Data= pd.read_csv('/content/stonks/guardian_data.csv')\n",
        "Guardian_Data.head()\n",
        "Guardian_Data.info()"
      ],
      "metadata": {
        "colab": {
          "base_uri": "https://localhost:8080/"
        },
        "id": "84ylyAR1Ivj1",
        "outputId": "fc6d9824-7440-4deb-e140-fff4b1bb600a"
      },
      "execution_count": 37,
      "outputs": [
        {
          "output_type": "stream",
          "name": "stdout",
          "text": [
            "<class 'pandas.core.frame.DataFrame'>\n",
            "RangeIndex: 185 entries, 0 to 184\n",
            "Data columns (total 5 columns):\n",
            " #   Column           Non-Null Count  Dtype  \n",
            "---  ------           --------------  -----  \n",
            " 0   Date             185 non-null    object \n",
            " 1   Headline Mean    185 non-null    float64\n",
            " 2   Body Mean        185 non-null    float64\n",
            " 3   Headline Median  185 non-null    float64\n",
            " 4   Body Median      185 non-null    float64\n",
            "dtypes: float64(4), object(1)\n",
            "memory usage: 7.4+ KB\n"
          ]
        }
      ]
    },
    {
      "cell_type": "code",
      "source": [
        "Huff_News_Data = pd.read_csv('/content/stonks/Huff_News_Avg_News_Sentiment.csv')\n",
        "Huff_News_Data.head()"
      ],
      "metadata": {
        "colab": {
          "base_uri": "https://localhost:8080/",
          "height": 206
        },
        "id": "Nx__7_VoI_ZZ",
        "outputId": "d15523cf-4cb8-4513-fe25-e0f3ebf73a53"
      },
      "execution_count": 6,
      "outputs": [
        {
          "output_type": "execute_result",
          "data": {
            "text/plain": [
              "         Date  Headline Mean  Body Mean  Headline Median  Body Median\n",
              "0  2022-03-13          -0.24       0.05            -0.21         0.19\n",
              "1  2022-03-14          -0.12      -0.06             0.00         0.00\n",
              "2  2022-03-15          -0.44      -0.39            -0.46        -0.47\n",
              "3  2022-03-16           0.10      -0.09             0.00        -0.13\n",
              "4  2022-03-17          -0.20      -0.14            -0.03        -0.03"
            ],
            "text/html": [
              "\n",
              "  <div id=\"df-04d9c30b-a42f-4ef1-900d-c216ebc6731e\">\n",
              "    <div class=\"colab-df-container\">\n",
              "      <div>\n",
              "<style scoped>\n",
              "    .dataframe tbody tr th:only-of-type {\n",
              "        vertical-align: middle;\n",
              "    }\n",
              "\n",
              "    .dataframe tbody tr th {\n",
              "        vertical-align: top;\n",
              "    }\n",
              "\n",
              "    .dataframe thead th {\n",
              "        text-align: right;\n",
              "    }\n",
              "</style>\n",
              "<table border=\"1\" class=\"dataframe\">\n",
              "  <thead>\n",
              "    <tr style=\"text-align: right;\">\n",
              "      <th></th>\n",
              "      <th>Date</th>\n",
              "      <th>Headline Mean</th>\n",
              "      <th>Body Mean</th>\n",
              "      <th>Headline Median</th>\n",
              "      <th>Body Median</th>\n",
              "    </tr>\n",
              "  </thead>\n",
              "  <tbody>\n",
              "    <tr>\n",
              "      <th>0</th>\n",
              "      <td>2022-03-13</td>\n",
              "      <td>-0.24</td>\n",
              "      <td>0.05</td>\n",
              "      <td>-0.21</td>\n",
              "      <td>0.19</td>\n",
              "    </tr>\n",
              "    <tr>\n",
              "      <th>1</th>\n",
              "      <td>2022-03-14</td>\n",
              "      <td>-0.12</td>\n",
              "      <td>-0.06</td>\n",
              "      <td>0.00</td>\n",
              "      <td>0.00</td>\n",
              "    </tr>\n",
              "    <tr>\n",
              "      <th>2</th>\n",
              "      <td>2022-03-15</td>\n",
              "      <td>-0.44</td>\n",
              "      <td>-0.39</td>\n",
              "      <td>-0.46</td>\n",
              "      <td>-0.47</td>\n",
              "    </tr>\n",
              "    <tr>\n",
              "      <th>3</th>\n",
              "      <td>2022-03-16</td>\n",
              "      <td>0.10</td>\n",
              "      <td>-0.09</td>\n",
              "      <td>0.00</td>\n",
              "      <td>-0.13</td>\n",
              "    </tr>\n",
              "    <tr>\n",
              "      <th>4</th>\n",
              "      <td>2022-03-17</td>\n",
              "      <td>-0.20</td>\n",
              "      <td>-0.14</td>\n",
              "      <td>-0.03</td>\n",
              "      <td>-0.03</td>\n",
              "    </tr>\n",
              "  </tbody>\n",
              "</table>\n",
              "</div>\n",
              "      <button class=\"colab-df-convert\" onclick=\"convertToInteractive('df-04d9c30b-a42f-4ef1-900d-c216ebc6731e')\"\n",
              "              title=\"Convert this dataframe to an interactive table.\"\n",
              "              style=\"display:none;\">\n",
              "        \n",
              "  <svg xmlns=\"http://www.w3.org/2000/svg\" height=\"24px\"viewBox=\"0 0 24 24\"\n",
              "       width=\"24px\">\n",
              "    <path d=\"M0 0h24v24H0V0z\" fill=\"none\"/>\n",
              "    <path d=\"M18.56 5.44l.94 2.06.94-2.06 2.06-.94-2.06-.94-.94-2.06-.94 2.06-2.06.94zm-11 1L8.5 8.5l.94-2.06 2.06-.94-2.06-.94L8.5 2.5l-.94 2.06-2.06.94zm10 10l.94 2.06.94-2.06 2.06-.94-2.06-.94-.94-2.06-.94 2.06-2.06.94z\"/><path d=\"M17.41 7.96l-1.37-1.37c-.4-.4-.92-.59-1.43-.59-.52 0-1.04.2-1.43.59L10.3 9.45l-7.72 7.72c-.78.78-.78 2.05 0 2.83L4 21.41c.39.39.9.59 1.41.59.51 0 1.02-.2 1.41-.59l7.78-7.78 2.81-2.81c.8-.78.8-2.07 0-2.86zM5.41 20L4 18.59l7.72-7.72 1.47 1.35L5.41 20z\"/>\n",
              "  </svg>\n",
              "      </button>\n",
              "      \n",
              "  <style>\n",
              "    .colab-df-container {\n",
              "      display:flex;\n",
              "      flex-wrap:wrap;\n",
              "      gap: 12px;\n",
              "    }\n",
              "\n",
              "    .colab-df-convert {\n",
              "      background-color: #E8F0FE;\n",
              "      border: none;\n",
              "      border-radius: 50%;\n",
              "      cursor: pointer;\n",
              "      display: none;\n",
              "      fill: #1967D2;\n",
              "      height: 32px;\n",
              "      padding: 0 0 0 0;\n",
              "      width: 32px;\n",
              "    }\n",
              "\n",
              "    .colab-df-convert:hover {\n",
              "      background-color: #E2EBFA;\n",
              "      box-shadow: 0px 1px 2px rgba(60, 64, 67, 0.3), 0px 1px 3px 1px rgba(60, 64, 67, 0.15);\n",
              "      fill: #174EA6;\n",
              "    }\n",
              "\n",
              "    [theme=dark] .colab-df-convert {\n",
              "      background-color: #3B4455;\n",
              "      fill: #D2E3FC;\n",
              "    }\n",
              "\n",
              "    [theme=dark] .colab-df-convert:hover {\n",
              "      background-color: #434B5C;\n",
              "      box-shadow: 0px 1px 3px 1px rgba(0, 0, 0, 0.15);\n",
              "      filter: drop-shadow(0px 1px 2px rgba(0, 0, 0, 0.3));\n",
              "      fill: #FFFFFF;\n",
              "    }\n",
              "  </style>\n",
              "\n",
              "      <script>\n",
              "        const buttonEl =\n",
              "          document.querySelector('#df-04d9c30b-a42f-4ef1-900d-c216ebc6731e button.colab-df-convert');\n",
              "        buttonEl.style.display =\n",
              "          google.colab.kernel.accessAllowed ? 'block' : 'none';\n",
              "\n",
              "        async function convertToInteractive(key) {\n",
              "          const element = document.querySelector('#df-04d9c30b-a42f-4ef1-900d-c216ebc6731e');\n",
              "          const dataTable =\n",
              "            await google.colab.kernel.invokeFunction('convertToInteractive',\n",
              "                                                     [key], {});\n",
              "          if (!dataTable) return;\n",
              "\n",
              "          const docLinkHtml = 'Like what you see? Visit the ' +\n",
              "            '<a target=\"_blank\" href=https://colab.research.google.com/notebooks/data_table.ipynb>data table notebook</a>'\n",
              "            + ' to learn more about interactive tables.';\n",
              "          element.innerHTML = '';\n",
              "          dataTable['output_type'] = 'display_data';\n",
              "          await google.colab.output.renderOutput(dataTable, element);\n",
              "          const docLink = document.createElement('div');\n",
              "          docLink.innerHTML = docLinkHtml;\n",
              "          element.appendChild(docLink);\n",
              "        }\n",
              "      </script>\n",
              "    </div>\n",
              "  </div>\n",
              "  "
            ]
          },
          "metadata": {},
          "execution_count": 6
        }
      ]
    },
    {
      "cell_type": "code",
      "source": [
        "#STILL NEEDS TO BE UPDATED\n",
        "NYT_Data = pd.read_csv('/content/stonks/ny_times_grouped_data.csv')\n"
      ],
      "metadata": {
        "id": "WHcenPCvJmXl"
      },
      "execution_count": 87,
      "outputs": []
    },
    {
      "cell_type": "markdown",
      "source": [
        "Merge Stock Data and Gaurdian Data"
      ],
      "metadata": {
        "id": "2VX0zHvBJ23W"
      }
    },
    {
      "cell_type": "markdown",
      "source": [
        "One Issue is that most of the time stocks are up"
      ],
      "metadata": {
        "id": "VEDNLwOtZ33B"
      }
    },
    {
      "cell_type": "code",
      "source": [
        "daily_stock_Guardian = stock_data.merge(Guardian_Data , how = 'inner', left_on='Date',right_on='Date')\n",
        "\n",
        "daily_stock_Guardian.columns = daily_stock_Guardian.columns.str.replace(' ', '_')\n",
        "#daily_stock_Guardian =daily_stock_Guardian.where(daily_stock_Guardian['Date']> '2022-08-01')\n",
        "\n",
        "daily_stock_Guardian['XLE'].sum()\n",
        "daily_stock_Guardian['XLI'].sum()\n",
        "daily_stock_Guardian.info()\n",
        "sum_column = daily_stock_Guardian.sum(axis=0)\n",
        "print (sum_column)"
      ],
      "metadata": {
        "colab": {
          "base_uri": "https://localhost:8080/"
        },
        "id": "HnYcCo0pJ6Iw",
        "outputId": "68d70442-a331-427e-832d-3af87277a9ad"
      },
      "execution_count": 119,
      "outputs": [
        {
          "output_type": "stream",
          "name": "stdout",
          "text": [
            "<class 'pandas.core.frame.DataFrame'>\n",
            "Int64Index: 127 entries, 0 to 126\n",
            "Data columns (total 19 columns):\n",
            " #   Column           Non-Null Count  Dtype  \n",
            "---  ------           --------------  -----  \n",
            " 0   Date             127 non-null    object \n",
            " 1   XLE              127 non-null    int64  \n",
            " 2   XLF              127 non-null    int64  \n",
            " 3   XLU              127 non-null    int64  \n",
            " 4   XLI              127 non-null    int64  \n",
            " 5   XLK              127 non-null    int64  \n",
            " 6   XLV              127 non-null    int64  \n",
            " 7   XLY              127 non-null    int64  \n",
            " 8   IYR              127 non-null    int64  \n",
            " 9   AAPL             127 non-null    int64  \n",
            " 10  XLB              127 non-null    int64  \n",
            " 11  XLP              127 non-null    int64  \n",
            " 12  SPY              127 non-null    int64  \n",
            " 13  ^DJI             127 non-null    int64  \n",
            " 14  NDX              127 non-null    float64\n",
            " 15  Headline_Mean    127 non-null    float64\n",
            " 16  Body_Mean        127 non-null    float64\n",
            " 17  Headline_Median  127 non-null    float64\n",
            " 18  Body_Median      127 non-null    float64\n",
            "dtypes: float64(5), int64(13), object(1)\n",
            "memory usage: 19.8+ KB\n",
            "Date               2022-03-142022-03-152022-03-162022-03-172022-0...\n",
            "XLE                                                               69\n",
            "XLF                                                               68\n",
            "XLU                                                               66\n",
            "XLI                                                               75\n",
            "XLK                                                               69\n",
            "XLV                                                               72\n",
            "XLY                                                               64\n",
            "IYR                                                               64\n",
            "AAPL                                                              72\n",
            "XLB                                                               61\n",
            "XLP                                                               69\n",
            "SPY                                                               72\n",
            "^DJI                                                              68\n",
            "NDX                                                             66.0\n",
            "Headline_Mean                                                 -17.34\n",
            "Body_Mean                                                      -2.75\n",
            "Headline_Median                                                -3.63\n",
            "Body_Median                                                    -8.67\n",
            "dtype: object\n"
          ]
        }
      ]
    },
    {
      "cell_type": "code",
      "source": [
        "%matplotlib inline\n",
        "import math\n",
        "import numpy as np\n",
        "import matplotlib.pylab as plt\n",
        "from sklearn.linear_model import LogisticRegression\n",
        "from sklearn.metrics import *\n",
        "from sklearn.model_selection import train_test_split "
      ],
      "metadata": {
        "id": "ESeNzuQsTVeJ"
      },
      "execution_count": 73,
      "outputs": []
    },
    {
      "cell_type": "markdown",
      "source": [
        "Checking to see how it plotted"
      ],
      "metadata": {
        "id": "dUta_tCuamZB"
      }
    },
    {
      "cell_type": "code",
      "source": [
        "# create a scatter plot of Experience vs. Training and keep track\n",
        "# of the outcome (1 or 0) using colors\n",
        "fig, ax = plt.subplots()\n",
        "\n",
        "subset0 = daily_stock_Guardian.loc[daily_stock_Guardian['XLE']== 0]\n",
        "ax.scatter(subset0.Body_Mean, subset0.Headline_Mean, marker='x', label='No', color='red')\n",
        "\n",
        "subset1 = daily_stock_Guardian.loc[daily_stock_Guardian['XLE']== 1]\n",
        "ax.scatter(subset1.Body_Mean, subset1.Headline_Mean, marker='x', label='Yes', color='green')\n",
        "\n",
        "plt.ylabel('Headline Sentiment')  # set x-axis label\n",
        "plt.xlabel('Body Sentiment')  # set y-axis label\n",
        "plt.xticks(rotation=90)  \n",
        "\n",
        "handles, labels = ax.get_legend_handles_labels()\n",
        "ax.legend(handles, labels);"
      ],
      "metadata": {
        "colab": {
          "base_uri": "https://localhost:8080/",
          "height": 469
        },
        "id": "_RY0_JRQTdoT",
        "outputId": "b93df428-d8fc-4505-fb86-638b993ed625"
      },
      "execution_count": 168,
      "outputs": [
        {
          "output_type": "display_data",
          "data": {
            "text/plain": [
              "<Figure size 640x480 with 1 Axes>"
            ],
            "image/png": "[encoded data removed]"
          },
          "metadata": {}
        }
      ]
    },
    {
      "cell_type": "code",
      "source": [
        "# Define categorical variable (not stricly needed by good practice)\n",
        "daily_stock_Guardian['XLE'] = daily_stock_Guardian['XLE'].astype('category')\n",
        "\n",
        "# Define X and y\n",
        "y = daily_stock_Guardian['XLE']\n",
        "X = daily_stock_Guardian.drop(columns=['SPY','XLP','Date',  'XLE',  'XLF' , 'XLU' , 'XLI'  ,'XLK'  ,'XLV'  ,'XLY' , 'IYR' , 'AAPL' , 'XLB' , '^DJI' , 'NDX'])\n",
        "print(X)\n",
        "print(y)"
      ],
      "metadata": {
        "colab": {
          "base_uri": "https://localhost:8080/"
        },
        "id": "rIoR5h6obGi8",
        "outputId": "c2ce2ee7-342d-4c3a-91a2-337d3dcb8209"
      },
      "execution_count": 169,
      "outputs": [
        {
          "output_type": "stream",
          "name": "stdout",
          "text": [
            "     Headline_Mean  Body_Mean  Headline_Median  Body_Median\n",
            "0            -0.13      -0.01             0.00        -0.00\n",
            "1            -0.20      -0.12            -0.15        -0.54\n",
            "2            -0.08      -0.16             0.00        -0.55\n",
            "3            -0.10      -0.24             0.00        -0.85\n",
            "4            -0.09      -0.09             0.00        -0.31\n",
            "..             ...        ...              ...          ...\n",
            "122          -0.14       0.13             0.00         0.83\n",
            "123          -0.10       0.21             0.00         0.89\n",
            "124          -0.08       0.35             0.00         0.95\n",
            "125          -0.16       0.01             0.00         0.10\n",
            "126          -0.11       0.06             0.00         0.54\n",
            "\n",
            "[127 rows x 4 columns]\n",
            "0      0\n",
            "1      1\n",
            "2      0\n",
            "3      1\n",
            "4      1\n",
            "      ..\n",
            "122    1\n",
            "123    0\n",
            "124    1\n",
            "125    1\n",
            "126    0\n",
            "Name: XLE, Length: 127, dtype: category\n",
            "Categories (2, int64): [0, 1]\n"
          ]
        }
      ]
    },
    {
      "cell_type": "code",
      "source": [
        "# Split data\n",
        "X_train, X_test, y_train, y_test = train_test_split( X, y, test_size = 0.4, random_state = 1, stratify = y)"
      ],
      "metadata": {
        "id": "pH4Jc7_2cGL3"
      },
      "execution_count": 170,
      "outputs": []
    },
    {
      "cell_type": "code",
      "source": [
        "# Logistic Regression\n",
        "lr = LogisticRegression(penalty=\"none\", solver='lbfgs')\n",
        "lr.fit(X_train, y_train)"
      ],
      "metadata": {
        "colab": {
          "base_uri": "https://localhost:8080/",
          "height": 129
        },
        "id": "lOUke7TgcJ0D",
        "outputId": "0156ca50-98a8-418a-a9de-5909fbb9055d"
      },
      "execution_count": 171,
      "outputs": [
        {
          "output_type": "stream",
          "name": "stderr",
          "text": [
            "/usr/local/lib/python3.9/dist-packages/sklearn/linear_model/_logistic.py:1173: FutureWarning: `penalty='none'`has been deprecated in 1.2 and will be removed in 1.4. To keep the past behaviour, set `penalty=None`.\n",
            "  warnings.warn(\n"
          ]
        },
        {
          "output_type": "execute_result",
          "data": {
            "text/plain": [
              "LogisticRegression(penalty='none')"
            ],
            "text/html": [
              "<style>#sk-container-id-6 {color: black;background-color: white;}#sk-container-id-6 pre{padding: 0;}#sk-container-id-6 div.sk-toggleable {background-color: white;}#sk-container-id-6 label.sk-toggleable__label {cursor: pointer;display: block;width: 100%;margin-bottom: 0;padding: 0.3em;box-sizing: border-box;text-align: center;}#sk-container-id-6 label.sk-toggleable__label-arrow:before {content: \"▸\";float: left;margin-right: 0.25em;color: #696969;}#sk-container-id-6 label.sk-toggleable__label-arrow:hover:before {color: black;}#sk-container-id-6 div.sk-estimator:hover label.sk-toggleable__label-arrow:before {color: black;}#sk-container-id-6 div.sk-toggleable__content {max-height: 0;max-width: 0;overflow: hidden;text-align: left;background-color: #f0f8ff;}#sk-container-id-6 div.sk-toggleable__content pre {margin: 0.2em;color: black;border-radius: 0.25em;background-color: #f0f8ff;}#sk-container-id-6 input.sk-toggleable__control:checked~div.sk-toggleable__content {max-height: 200px;max-width: 100%;overflow: auto;}#sk-container-id-6 input.sk-toggleable__control:checked~label.sk-toggleable__label-arrow:before {content: \"▾\";}#sk-container-id-6 div.sk-estimator input.sk-toggleable__control:checked~label.sk-toggleable__label {background-color: #d4ebff;}#sk-container-id-6 div.sk-label input.sk-toggleable__control:checked~label.sk-toggleable__label {background-color: #d4ebff;}#sk-container-id-6 input.sk-hidden--visually {border: 0;clip: rect(1px 1px 1px 1px);clip: rect(1px, 1px, 1px, 1px);height: 1px;margin: -1px;overflow: hidden;padding: 0;position: absolute;width: 1px;}#sk-container-id-6 div.sk-estimator {font-family: monospace;background-color: #f0f8ff;border: 1px dotted black;border-radius: 0.25em;box-sizing: border-box;margin-bottom: 0.5em;}#sk-container-id-6 div.sk-estimator:hover {background-color: #d4ebff;}#sk-container-id-6 div.sk-parallel-item::after {content: \"\";width: 100%;border-bottom: 1px solid gray;flex-grow: 1;}#sk-container-id-6 div.sk-label:hover label.sk-toggleable__label {background-color: #d4ebff;}#sk-container-id-6 div.sk-serial::before {content: \"\";position: absolute;border-left: 1px solid gray;box-sizing: border-box;top: 0;bottom: 0;left: 50%;z-index: 0;}#sk-container-id-6 div.sk-serial {display: flex;flex-direction: column;align-items: center;background-color: white;padding-right: 0.2em;padding-left: 0.2em;position: relative;}#sk-container-id-6 div.sk-item {position: relative;z-index: 1;}#sk-container-id-6 div.sk-parallel {display: flex;align-items: stretch;justify-content: center;background-color: white;position: relative;}#sk-container-id-6 div.sk-item::before, #sk-container-id-6 div.sk-parallel-item::before {content: \"\";position: absolute;border-left: 1px solid gray;box-sizing: border-box;top: 0;bottom: 0;left: 50%;z-index: -1;}#sk-container-id-6 div.sk-parallel-item {display: flex;flex-direction: column;z-index: 1;position: relative;background-color: white;}#sk-container-id-6 div.sk-parallel-item:first-child::after {align-self: flex-end;width: 50%;}#sk-container-id-6 div.sk-parallel-item:last-child::after {align-self: flex-start;width: 50%;}#sk-container-id-6 div.sk-parallel-item:only-child::after {width: 0;}#sk-container-id-6 div.sk-dashed-wrapped {border: 1px dashed gray;margin: 0 0.4em 0.5em 0.4em;box-sizing: border-box;padding-bottom: 0.4em;background-color: white;}#sk-container-id-6 div.sk-label label {font-family: monospace;font-weight: bold;display: inline-block;line-height: 1.2em;}#sk-container-id-6 div.sk-label-container {text-align: center;}#sk-container-id-6 div.sk-container {/* jupyter's `normalize.less` sets `[hidden] { display: none; }` but bootstrap.min.css set `[hidden] { display: none !important; }` so we also need the `!important` here to be able to override the default hidden behavior on the sphinx rendered scikit-learn.org. See: https://github.com/scikit-learn/scikit-learn/issues/21755 */display: inline-block !important;position: relative;}#sk-container-id-6 div.sk-text-repr-fallback {display: none;}</style><div id=\"sk-container-id-6\" class=\"sk-top-container\"><div class=\"sk-text-repr-fallback\"><pre>LogisticRegression(penalty=&#x27;none&#x27;)</pre><b>In a Jupyter environment, please rerun this cell to show the HTML representation or trust the notebook. <br />On GitHub, the HTML representation is unable to render, please try loading this page with nbviewer.org.</b></div><div class=\"sk-container\" hidden><div class=\"sk-item\"><div class=\"sk-estimator sk-toggleable\"><input class=\"sk-toggleable__control sk-hidden--visually\" id=\"sk-estimator-id-6\" type=\"checkbox\" checked><label for=\"sk-estimator-id-6\" class=\"sk-toggleable__label sk-toggleable__label-arrow\">LogisticRegression</label><div class=\"sk-toggleable__content\"><pre>LogisticRegression(penalty=&#x27;none&#x27;)</pre></div></div></div></div></div>"
            ]
          },
          "metadata": {},
          "execution_count": 171
        }
      ]
    },
    {
      "cell_type": "code",
      "source": [
        "# Run class y predictions\n",
        "y_pred = lr.predict(X_test)"
      ],
      "metadata": {
        "id": "DCuyBFZHc2Cp"
      },
      "execution_count": 172,
      "outputs": []
    },
    {
      "cell_type": "code",
      "source": [
        "# Confusion Matrix\n",
        "confusion_matrix(y_test,y_pred)"
      ],
      "metadata": {
        "colab": {
          "base_uri": "https://localhost:8080/"
        },
        "id": "-4BoxWSec30X",
        "outputId": "06356708-f260-4e16-8885-8f1eb51f3ee9"
      },
      "execution_count": 173,
      "outputs": [
        {
          "output_type": "execute_result",
          "data": {
            "text/plain": [
              "array([[ 6, 17],\n",
              "       [11, 17]])"
            ]
          },
          "metadata": {},
          "execution_count": 173
        }
      ]
    },
    {
      "cell_type": "code",
      "source": [
        "accuracy_score(y_test, y_pred)"
      ],
      "metadata": {
        "colab": {
          "base_uri": "https://localhost:8080/"
        },
        "id": "Kz2N_oitc_Vx",
        "outputId": "7d668c92-e4e5-4b74-d848-bfea68b904ab"
      },
      "execution_count": 174,
      "outputs": [
        {
          "output_type": "execute_result",
          "data": {
            "text/plain": [
              "0.45098039215686275"
            ]
          },
          "metadata": {},
          "execution_count": 174
        }
      ]
    },
    {
      "cell_type": "code",
      "source": [
        "# What if we want to change the default probability cutoff of 0.5?\n",
        "\n",
        "# Extract regressed probabilities using predict_proba\n",
        "p_pred=lr.predict_proba(X_test)[:,1]\n",
        "np.round(p_pred,3)"
      ],
      "metadata": {
        "colab": {
          "base_uri": "https://localhost:8080/"
        },
        "id": "M5-7WAd7dPhD",
        "outputId": "1eef7ea9-79e9-4d18-e4b4-fc57e34e712a"
      },
      "execution_count": 154,
      "outputs": [
        {
          "output_type": "execute_result",
          "data": {
            "text/plain": [
              "array([0.569, 0.501, 0.482, 0.541, 0.566, 0.464, 0.591, 0.453, 0.619,\n",
              "       0.551, 0.426, 0.569, 0.508, 0.633, 0.511, 0.59 , 0.469, 0.539,\n",
              "       0.659, 0.524, 0.605, 0.455, 0.523, 0.539, 0.581, 0.514, 0.522,\n",
              "       0.506, 0.484, 0.473, 0.455, 0.652, 0.498, 0.593, 0.512, 0.478,\n",
              "       0.485, 0.459, 0.484, 0.571, 0.583, 0.482, 0.655, 0.612, 0.585,\n",
              "       0.566, 0.564, 0.439, 0.697, 0.521, 0.451])"
            ]
          },
          "metadata": {},
          "execution_count": 154
        }
      ]
    },
    {
      "cell_type": "code",
      "source": [
        "cutoff = 0.25\n",
        "y_pred_new=[1 if i > cutoff else 0 for i in p_pred]\n",
        "y_pred_new"
      ],
      "metadata": {
        "colab": {
          "base_uri": "https://localhost:8080/"
        },
        "id": "LIEQXW03diy9",
        "outputId": "9c722467-0e43-4b1b-b658-90d034082d01"
      },
      "execution_count": 155,
      "outputs": [
        {
          "output_type": "execute_result",
          "data": {
            "text/plain": [
              "[1,\n",
              " 1,\n",
              " 1,\n",
              " 1,\n",
              " 1,\n",
              " 1,\n",
              " 1,\n",
              " 1,\n",
              " 1,\n",
              " 1,\n",
              " 1,\n",
              " 1,\n",
              " 1,\n",
              " 1,\n",
              " 1,\n",
              " 1,\n",
              " 1,\n",
              " 1,\n",
              " 1,\n",
              " 1,\n",
              " 1,\n",
              " 1,\n",
              " 1,\n",
              " 1,\n",
              " 1,\n",
              " 1,\n",
              " 1,\n",
              " 1,\n",
              " 1,\n",
              " 1,\n",
              " 1,\n",
              " 1,\n",
              " 1,\n",
              " 1,\n",
              " 1,\n",
              " 1,\n",
              " 1,\n",
              " 1,\n",
              " 1,\n",
              " 1,\n",
              " 1,\n",
              " 1,\n",
              " 1,\n",
              " 1,\n",
              " 1,\n",
              " 1,\n",
              " 1,\n",
              " 1,\n",
              " 1,\n",
              " 1,\n",
              " 1]"
            ]
          },
          "metadata": {},
          "execution_count": 155
        }
      ]
    },
    {
      "cell_type": "code",
      "source": [
        "# confusion matrix with different cutoff\n",
        "confusion_matrix(y_test,y_pred_new)"
      ],
      "metadata": {
        "colab": {
          "base_uri": "https://localhost:8080/"
        },
        "id": "kh-Re7C0dl0l",
        "outputId": "a157637b-c2f5-46ff-8675-d04a174efabf"
      },
      "execution_count": 156,
      "outputs": [
        {
          "output_type": "execute_result",
          "data": {
            "text/plain": [
              "array([[ 0, 23],\n",
              "       [ 0, 28]])"
            ]
          },
          "metadata": {},
          "execution_count": 156
        }
      ]
    },
    {
      "cell_type": "code",
      "source": [
        "# accuracy score with different cutoff\n",
        "accuracy_score(y_test, y_pred_new)"
      ],
      "metadata": {
        "colab": {
          "base_uri": "https://localhost:8080/"
        },
        "id": "bg8CUUu6dpgY",
        "outputId": "474e3988-d719-44b9-a4ec-b64a5bfcd63c"
      },
      "execution_count": 157,
      "outputs": [
        {
          "output_type": "execute_result",
          "data": {
            "text/plain": [
              "0.5490196078431373"
            ]
          },
          "metadata": {},
          "execution_count": 157
        }
      ]
    }
  ]
}